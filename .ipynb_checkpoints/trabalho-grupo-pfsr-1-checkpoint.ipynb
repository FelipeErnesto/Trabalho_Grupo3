{
 "cells": [
  {
   "cell_type": "markdown",
   "metadata": {
    "id": "oFm-Bj8TmE5R"
   },
   "source": [
    "notes\n",
    "-pq lorenzzetti não  considera o fator E0 nem a casa decimal do Es?"
   ]
  },
  {
   "cell_type": "code",
   "execution_count": 1,
   "metadata": {
    "executionInfo": {
     "elapsed": 10,
     "status": "ok",
     "timestamp": 1679396252609,
     "user": {
      "displayName": "Heithor Queiroz",
      "userId": "03589162198501756923"
     },
     "user_tz": 180
    },
    "id": "5OnhosuEB4y_"
   },
   "outputs": [],
   "source": [
    "import math as m"
   ]
  },
  {
   "cell_type": "markdown",
   "metadata": {
    "id": "_0XZ-FZCMo3S"
   },
   "source": [
    "###Função para cálculo da irradiação solar extraterrestre TOA (I0)"
   ]
  },
  {
   "cell_type": "code",
   "execution_count": 23,
   "metadata": {
    "executionInfo": {
     "elapsed": 346,
     "status": "ok",
     "timestamp": 1679396678130,
     "user": {
      "displayName": "Heithor Queiroz",
      "userId": "03589162198501756923"
     },
     "user_tz": 180
    },
    "id": "M2TT-K0ZNFq0"
   },
   "outputs": [],
   "source": [
    "#função criada na aula de expansão de histograma\n",
    "def irradiacaoI0(delta, fi, omega, Es, E0=1):\n",
    "  I0 = Es * E0 * (m.sin(delta)*m.sin(fi)+m.cos(delta)*m.cos(fi)*m.cos(omega))\n",
    "  return I0"
   ]
  },
  {
   "cell_type": "markdown",
   "metadata": {
    "id": "gMVoY71dPgqT"
   },
   "source": [
    "### Exercício Lorenzzetti (modelo pag. 36)\n",
    "informe: lat, h, delta "
   ]
  },
  {
   "cell_type": "code",
   "execution_count": 19,
   "metadata": {
    "colab": {
     "base_uri": "https://localhost:8080/"
    },
    "executionInfo": {
     "elapsed": 34,
     "status": "ok",
     "timestamp": 1679396670073,
     "user": {
      "displayName": "Heithor Queiroz",
      "userId": "03589162198501756923"
     },
     "user_tz": 180
    },
    "id": "jodp3kWUUl3M",
    "outputId": "ef0101f4-ca8b-447e-e803-9c166d1c96e4"
   },
   "outputs": [
    {
     "data": {
      "text/plain": [
       "-23.19"
      ]
     },
     "execution_count": 19,
     "metadata": {},
     "output_type": "execute_result"
    }
   ],
   "source": [
    "# Conversão GMS para GD\n",
    "import re\n",
    "lat = '''23°11'11\"S'''\n",
    "deg, minutes, seconds, direction =  re.split('[°\\'\"]', lat)\n",
    "lat = (float(deg) + float(minutes)/60 + float(seconds)/(60*60)) * (-1 if direction in ['W', 'S'] else 1)\n",
    "lat = round(lat,2) # 2 casas decimais\n",
    "lat"
   ]
  },
  {
   "cell_type": "code",
   "execution_count": 20,
   "metadata": {
    "colab": {
     "base_uri": "https://localhost:8080/"
    },
    "executionInfo": {
     "elapsed": 31,
     "status": "ok",
     "timestamp": 1679396670074,
     "user": {
      "displayName": "Heithor Queiroz",
      "userId": "03589162198501756923"
     },
     "user_tz": 180
    },
    "id": "R0j9P56vSSzD",
    "outputId": "e22a5c54-4361-4a03-d19b-92b59b99656c"
   },
   "outputs": [
    {
     "data": {
      "text/plain": [
       "22.5"
      ]
     },
     "execution_count": 20,
     "metadata": {},
     "output_type": "execute_result"
    }
   ],
   "source": [
    "# Cálculo do ângulo horário solar (omega) pag.37 Lorenzzetti\n",
    "h = 10.5\n",
    "omega = ((m.radians(m.pi/12))/h)*(1.5*h)*180/m.pi\n",
    "omega = m.degrees(omega)\n",
    "omega"
   ]
  },
  {
   "cell_type": "code",
   "execution_count": 21,
   "metadata": {
    "executionInfo": {
     "elapsed": 25,
     "status": "ok",
     "timestamp": 1679396670074,
     "user": {
      "displayName": "Heithor Queiroz",
      "userId": "03589162198501756923"
     },
     "user_tz": 180
    },
    "id": "JEFhc2XgPoxc"
   },
   "outputs": [],
   "source": [
    "# Declaração de variáveis\n",
    "delta = m.radians(-8.67) # declinação solar\n",
    "fi = m.radians(lat)  # latitude local\n",
    "omega = m.radians(omega) # ângulo horário solar\n",
    "Es = int(1367*3.6) # constante solar\n",
    "#E0 = 1.0064 # fator E0"
   ]
  },
  {
   "cell_type": "code",
   "execution_count": 26,
   "metadata": {
    "colab": {
     "base_uri": "https://localhost:8080/"
    },
    "executionInfo": {
     "elapsed": 673,
     "status": "ok",
     "timestamp": 1679396697922,
     "user": {
      "displayName": "Heithor Queiroz",
      "userId": "03589162198501756923"
     },
     "user_tz": 180
    },
    "id": "tPYNFFVeVLCx",
    "outputId": "777055e2-b19f-480f-d93a-25a00de38271"
   },
   "outputs": [
    {
     "name": "stdout",
     "output_type": "stream",
     "text": [
      "4423.435186731038\n"
     ]
    }
   ],
   "source": [
    "print(irradiacaoI0(delta,fi,omega,Es)) #inserir E0 se precisar"
   ]
  },
  {
   "cell_type": "markdown",
   "metadata": {
    "id": "W4gUMy3kbWQ6"
   },
   "source": [
    "### Exercício aula de campo 10/Mar\n",
    "\n",
    "informe: lat, h, delta "
   ]
  },
  {
   "cell_type": "code",
   "execution_count": null,
   "metadata": {
    "colab": {
     "base_uri": "https://localhost:8080/"
    },
    "executionInfo": {
     "elapsed": 235,
     "status": "ok",
     "timestamp": 1679192320754,
     "user": {
      "displayName": "Heithor Queiroz",
      "userId": "03589162198501756923"
     },
     "user_tz": 180
    },
    "id": "DIZGsfdycHGj",
    "outputId": "4119fc27-c363-48c3-da6f-58b827db7ef9"
   },
   "outputs": [
    {
     "data": {
      "text/plain": [
       "-23.21"
      ]
     },
     "execution_count": 29,
     "metadata": {},
     "output_type": "execute_result"
    }
   ],
   "source": [
    "# Conversão GMS para GD\n",
    "import re\n",
    "lat = '''23°12'32.9\"S'''\n",
    "deg, minutes, seconds, direction =  re.split('[°\\'\"]', lat)\n",
    "lat = (float(deg) + float(minutes)/60 + float(seconds)/(60*60)) * (-1 if direction in ['W', 'S'] else 1)\n",
    "lat = round(lat,2) # 2 casas decimais\n",
    "lat"
   ]
  },
  {
   "cell_type": "code",
   "execution_count": null,
   "metadata": {
    "colab": {
     "base_uri": "https://localhost:8080/"
    },
    "executionInfo": {
     "elapsed": 8,
     "status": "ok",
     "timestamp": 1679192320755,
     "user": {
      "displayName": "Heithor Queiroz",
      "userId": "03589162198501756923"
     },
     "user_tz": 180
    },
    "id": "T0SlsKNNcHG-",
    "outputId": "46949321-b9d9-4c42-8a7b-bc738f436459"
   },
   "outputs": [
    {
     "data": {
      "text/plain": [
       "22.5"
      ]
     },
     "execution_count": 30,
     "metadata": {},
     "output_type": "execute_result"
    }
   ],
   "source": [
    "# Cálculo do ângulo horário solar (omega) pag.37 Lorenzzetti\n",
    "h = 14\n",
    "omega = ((m.radians(m.pi/12))/h)*(1.5*h)*180/m.pi\n",
    "omega = m.degrees(omega)\n",
    "omega"
   ]
  },
  {
   "cell_type": "code",
   "execution_count": null,
   "metadata": {
    "id": "hToVBrEAcHHA"
   },
   "outputs": [],
   "source": [
    "# Declaração de variáveis\n",
    "delta = m.radians(-4.01) # declinação solar\n",
    "fi = m.radians(lat)  # latitude local\n",
    "omega = m.radians(omega) # ângulo horário solar\n",
    "Es = int(1367*3.6) # constante solar"
   ]
  },
  {
   "cell_type": "code",
   "execution_count": null,
   "metadata": {
    "colab": {
     "base_uri": "https://localhost:8080/"
    },
    "executionInfo": {
     "elapsed": 6,
     "status": "ok",
     "timestamp": 1679192320755,
     "user": {
      "displayName": "Heithor Queiroz",
      "userId": "03589162198501756923"
     },
     "user_tz": 180
    },
    "id": "VgKK9u9ncHHA",
    "outputId": "71a1a806-b5f3-4f92-c481-75761165b834"
   },
   "outputs": [
    {
     "name": "stdout",
     "output_type": "stream",
     "text": [
      "4303.846881841948\n"
     ]
    }
   ],
   "source": [
    "print(irradiacaoI0(delta,fi,omega,Es))"
   ]
  },
  {
   "cell_type": "code",
   "execution_count": null,
   "metadata": {
    "id": "wrPCl4GylJGK"
   },
   "outputs": [],
   "source": []
  },
  {
   "cell_type": "markdown",
   "metadata": {
    "id": "pRPgzeVmlJ-z"
   },
   "source": [
    "##extra"
   ]
  },
  {
   "cell_type": "code",
   "execution_count": 18,
   "metadata": {
    "colab": {
     "base_uri": "https://localhost:8080/"
    },
    "executionInfo": {
     "elapsed": 306,
     "status": "ok",
     "timestamp": 1679396569437,
     "user": {
      "displayName": "Heithor Queiroz",
      "userId": "03589162198501756923"
     },
     "user_tz": 180
    },
    "id": "ad58NT_O0E3M",
    "outputId": "a65def62-7005-4222-b2a8-6b66364898b3"
   },
   "outputs": [
    {
     "data": {
      "text/plain": [
       "1.0064390542740576"
      ]
     },
     "execution_count": 18,
     "metadata": {},
     "output_type": "execute_result"
    }
   ],
   "source": [
    "# Cálculo fator E0 (não usado no exemplo em Lorenzzeti)\n",
    "dn = 289\n",
    "gamarad=m.radians(360*(dn-1)/365.15)\n",
    "E0 = 1.000110+(0.034221*m.cos(gamarad))+0.001280*m.sin(gamarad)+0.000719*m.cos(2*gamarad)+0.000077*m.sin(2*gamarad)\n",
    "E0"
   ]
  }
 ],
 "metadata": {
  "colab": {
   "authorship_tag": "ABX9TyMC7MwccWHeVW6s816+3R0A",
   "provenance": [
    {
     "file_id": "1kfWoR8A8zOza7D0ihW3PShVudJNEso77",
     "timestamp": 1679191094407
    }
   ]
  },
  "kernelspec": {
   "display_name": "Python 3 (ipykernel)",
   "language": "python",
   "name": "python3"
  },
  "language_info": {
   "codemirror_mode": {
    "name": "ipython",
    "version": 3
   },
   "file_extension": ".py",
   "mimetype": "text/x-python",
   "name": "python",
   "nbconvert_exporter": "python",
   "pygments_lexer": "ipython3",
   "version": "3.10.10"
  }
 },
 "nbformat": 4,
 "nbformat_minor": 1
}
